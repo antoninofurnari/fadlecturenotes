{
 "cells": [
  {
   "cell_type": "markdown",
   "metadata": {},
   "source": [
    "# Basic Elements of Information Theory\n",
    "\n",
    "Probability Theory allows to deal with the uncertain, however, it does\n",
    "not allow to quantify it. Information theory provides the tools to\n",
    "**quantify how much information is present in a signal**.\n",
    "\n",
    "When dealing with data, it can be useful to understand which data is\n",
    "informative and which is not, with respect to a given goal.\n",
    "\n",
    "The basic intuition behind information theory is that learning an\n",
    "unlikely event has occurred is more informative than learning a likely\n",
    "event has occurred.\n",
    "\n",
    "For instance, the event \"the sun rose this morning\" is very likely and\n",
    "hence it is not very informative. The message \"there was a solar eclipse\n",
    "this morning\" is instead very unlikely, and hence informative."
   ]
  },
  {
   "cell_type": "markdown",
   "metadata": {},
   "source": [
    "## Self-information\n",
    "\n",
    "We would like to quantify information in a way that formalizes the\n",
    "intuition discussed before:\n",
    "\n",
    "-   Likely events should have *low information content*\n",
    "\n",
    "-   Less likely events should have *higher information content*\n",
    "\n",
    "Moreover, **independent events should have additive\n",
    "        information**. For example, finding out that a tossed coin has\n",
    "        come up as heads twice should convey twice as much information\n",
    "        as finding out that a tossed coin has come up as heads once.\n",
    "\n",
    "To satisfy these three properties, the notion of **self-information** is\n",
    "introduced. Given a random variable $X \\sim P$, the self-information of\n",
    "an event $X = x$ is defined as:\n",
    "\n",
    "$$I(x) = - logP(x)$$\n",
    "\n",
    "If the base of the logarithm is 2, then the self-information is measured\n",
    "in **bits**.\n",
    "\n",
    "If the base of the logarithm is e, then the self-information is measures\n",
    "in **nats.**"
   ]
  },
  {
   "cell_type": "code",
   "execution_count": null,
   "metadata": {},
   "outputs": [
    {
     "data": {
      "image/png": "[encoded data removed]",
      "text/plain": [
       "<Figure size 576x432 with 1 Axes>"
      ]
     },
     "metadata": {},
     "output_type": "display_data"
    }
   ],
   "source": [
    "import matplotlib.pyplot as plt\n",
    "import numpy as np\n",
    "\n",
    "# Define a range of probabilities\n",
    "probabilities = np.linspace(0.01, 15, 100)  # From 0.01 to 1 with 100 points\n",
    "\n",
    "# Calculate self-information for each probability\n",
    "self_information = -np.log2(probabilities)\n",
    "\n",
    "# Create the self-information plot\n",
    "plt.figure(figsize=(8, 6))\n",
    "plt.plot(probabilities, self_information, 'b-', lw=2)\n",
    "plt.xlabel('Probability (P(x))')\n",
    "plt.ylabel('Self-Information (I(x))')\n",
    "plt.title('Self-Information vs. Probability')\n",
    "plt.grid(True)\n",
    "\n",
    "# Show the plot\n",
    "plt.show()\n"
   ]
  },
  {
   "cell_type": "markdown",
   "metadata": {},
   "source": [
    "It should be noted that this definition of self-information satisfies\n",
    "the three conditions. Indeed:\n",
    "\n",
    "-   As $P(x)$ gets larger, $I(x)$ gets smaller and vice versa\n",
    "\n",
    "-   The self-information for two independent variables $X$ and $Y$ is\n",
    "    given by:\n",
    "\n",
    "$$I(X = x,Y = y) = - \\log P(X = x,Y = y)$$\n",
    "\n",
    "-   Since the variables are independent, $P(X,Y) = P(X)P(Y)$, hence:\n",
    "\n",
    "$$I(X = x,Y = y) = - \\log\\left\\lbrack P(X = x)P(Y = y) \\right\\rbrack = - logP(X = x) - \\log P(Y = y) = I(x) + I(y)$$\n",
    "\n",
    "-   Hence, also the additivity of the entropies of independent variables\n",
    "    is satisfied."
   ]
  },
  {
   "cell_type": "markdown",
   "metadata": {},
   "source": [
    "## Entropy\n",
    "\n",
    "*Self-information is defined on a single outcome*. We can quantify the\n",
    "amount of **uncertainty** in an entire probability distribution using\n",
    "the **Shannon entropy**:\n",
    "\n",
    "$$H(X) = E_{X \\sim P}\\left\\lbrack I(x) \\right\\rbrack = - E_{X \\sim P}\\left\\lbrack \\log{P(x)} \\right\\rbrack$$\n",
    "\n",
    "In the case of a discrete variable:\n",
    "\n",
    "$$H(X) = - \\sum_{x}^{}{P(x)logP(x)}$$\n",
    "\n",
    "Where the summation is over all values of $x \\in \\ \\chi$, with $\\chi$\n",
    "alphabet of $X$. In the case of a continuous variable, the sum is\n",
    "substituted by an integral:\n",
    "\n",
    "$$H(X) = - \\int_{}^{}{P(x)logP(x)dx}$$\n",
    "\n",
    "The Shannon entropy of a distribution is **the expected amount of\n",
    "information in an event drawn from that distribution**.\n",
    "\n",
    "The entropy is measured in **bits** or **nats** (depending on the base\n",
    "of the logarithm) and can be interpreted as **the amount of information\n",
    "required on the average to describe the random variable**.\n",
    "\n",
    "**Example**\n",
    "\n",
    "-   Let's consider a die with six faces.\n",
    "\n",
    "-   We can describe the outcomes of rolling the dice with a random\n",
    "    variable $X$ with alphabet $\\chi = \\ \\left\\{ 1,\\ldots,6 \\right\\}$.\n",
    "\n",
    "-   If the dice is fair, then $P(x) = \\frac{1}{6},\\ \\forall x \\in \\chi$.\n",
    "\n",
    "-   The entropy associated with this random variable is:\n",
    "    $H(X) = - \\sum_{i = 1}^{6}{\\frac{1}{6}\\log}\\frac{1}{6} = \\log(6) = 2.58\\ bits$.\n",
    "\n",
    "    1.  This makes sense as the minimum number of bits needed to\n",
    "        represent 8 numbers is 3 ($2^{3} = 8$). Since we have less than\n",
    "        8 numbers, in average we need less than 3 bits.\n",
    "\n",
    "&nbsp;\n",
    "\n",
    "-   Let's suppose the dice is not fair and in particular Let's suppose\n",
    "    it follows a categorical distribution with\n",
    "    $\\mathbf{p} = \\lbrack 0.1,0.1,0.1,0.1,0.1\\rbrack$. The probability\n",
    "    of number \"6\" will be $0.5$;\n",
    "\n",
    "-   Intuitively, we need less bits to represent this variable. Indeed,\n",
    "    since event $X = 6$ is much more frequent, we can represent it with\n",
    "    the least number of bits, whereas we can represent less frequent\n",
    "    outcomes with more bits. In particular, the entropy of the variable\n",
    "    will be:\n",
    "\n",
    "$$H(X) = - \\sum_{i = 1}^{5}{0.1\\log{0.1}} - 0.5\\log(0.5) = 2.16\\ bits$$\n",
    "\n",
    "-   The number of bits required to represent the variable in average is\n",
    "    2.16 bits, smaller than in the case of the fair die.\n",
    "\n"
   ]
  },
  {
   "cell_type": "markdown",
   "metadata": {},
   "source": [
    "## Kullback-Leibler Divergence\n",
    "\n",
    "The Kullback-Leibler divergence (also called KL-divergence) is a statistical distance measure which can be used to quantify the distance between two probability distributions (i.e., how much different they are from one another). For discrete probability distributions, this is defined as:\n",
    "\n",
    "$$D_{KL}(P || Q) = \\sum_{x \\in \\chi} P(x)\\log\\left(\\frac{P(x)}{Q(x)}\\right)$$\n",
    "\n",
    "where $P$ and $Q$ are the two distributions we want to compare and $\\chi$ is the sample space of such distributions. In practice, it is **the expectation under the distribution P of the logarithmic difference ($\\log\\frac{P(x)}{Q(x)} = \\log P(x)-\\log Q(x)$) between the values of $P(x)$ and $Q(x)$.** \n",
    "\n",
    " **It should be noted that this distance measure is not symmetric.**\n",
    "\n",
    " For two continuous densities $p$ and $q$:\n",
    "\n",
    " $$D_{KL}(p || q) = \\int_{\\chi} p(x)\\log\\left(\\frac{p(x)}{q(x)}\\right)dx$$\n"
   ]
  },
  {
   "cell_type": "markdown",
   "metadata": {},
   "source": [
    "## Mutual Information\n"
   ]
  },
  {
   "cell_type": "markdown",
   "metadata": {},
   "source": [
    "## Data Processing Inequality"
   ]
  },
  {
   "cell_type": "markdown",
   "metadata": {},
   "source": [
    "# References\n",
    "\n",
    "-   Some parts of chapter 1 of \\[3\\].\n",
    "\n",
    "\\[3\\] Cover, Thomas M., and Joy A. Thomas. *Elements of information\n",
    "theory*. John Wiley & Sons, 2012.\n"
   ]
  }
 ],
 "metadata": {
  "language_info": {
   "name": "python"
  }
 },
 "nbformat": 4,
 "nbformat_minor": 2
}
