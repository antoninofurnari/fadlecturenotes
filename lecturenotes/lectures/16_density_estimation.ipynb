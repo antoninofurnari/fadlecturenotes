{
 "cells": [
  {
   "cell_type": "markdown",
   "metadata": {},
   "source": [
    "# Clustering and Density Estimation\n",
    "When we deal with complex datasets of multiple observations and variables, it can be useful to be able to understand the underlying structure of the data. **If $X$ is a multivariate variable containing our data**, this means to be able to study the distribution of the data $P(X)$.\n",
    "\n",
    "Understanding the underlying structure of the data can be useful in different contexts. For example:\n",
    "* If $X$ is a series of observations of customers in a bank (e.g., age, sex, balance, salary, etc.), we may want to know $P(X)$ to understand which types of customers are more frequent (those that have large $P(X)$ values), or if there are different distinct groups of customers (e.g., if $P(X)$ has more than one mode);\n",
    "* If $X$ is a set of images of faces, knowing $P(X)$ would allow us to understand if an image $x$ looks like an image of a face or not, which faces are more frequent, if there are more than one \"groups\" of faces, etc. If we could draw $x \\sim P$, we could even generate new images of faces! (**by the way, this is what Generative Adversarial Networks do**);\n",
    "* If $X$ is a series of observations of bank transactions, by modeling $P(X)$ we can infer if a given observation $\\mathbf{x}$ is a typical transaction (high $P(\\mathbf{x}$)) or whether it is an anomaly (low $P(X)$). If we can make assumptions on the nature of $P(X)$,, we can even make inference on the properties of a given data point $\\mathbf{x}$. For instance, if $P$ is Gaussian, then datapoints which are further from the center are atypical and they can hence identify anomalous transactions.\n",
    "\n",
    "We will see two main classes of algorithms suitable to study the **inherent structure of data: clustering and density estimation**."
   ]
  },
  {
   "cell_type": "markdown",
   "metadata": {},
   "source": []
  }
 ],
 "metadata": {
  "language_info": {
   "name": "python"
  }
 },
 "nbformat": 4,
 "nbformat_minor": 2
}
