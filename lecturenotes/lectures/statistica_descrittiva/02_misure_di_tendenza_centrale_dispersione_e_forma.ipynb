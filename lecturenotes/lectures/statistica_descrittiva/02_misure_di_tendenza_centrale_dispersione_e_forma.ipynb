{
 "cells": [
  {
   "cell_type": "markdown",
   "metadata": {},
   "source": [
    "# Misure di Tendenza Centrale, Dispersione e Forma\n",
    "\n",
    "La statistica descrittiva si occupa di descrivere, rappresentare e sintetizzare un campione di dati relativo ad una popolazione. Gli strumenti della statistica descrittiva possono essere sia numerici che grafici. I dati analizzati possono essere descritti secondo diversi aspetti. Esistono pertanto diversi \"indicatori\" oggettivi:\n",
    " * **numerosità** del campione;\n",
    " * **indicatori centrali**: media, mediana, moda;\n",
    " * **Indicatori di dispersione**: estremi, range, quantili, percentili, quartili, distanza inter-quartile, varianza;\n",
    " * **Indicatori di forma**: simmetria/asimmetria rispetto alla media (skewness), \"piattezza\" o modalità di concentrazione dei dati intorno alla media (\"kurtosis\").\n",
    "\n",
    "Per esaminare questi strumenti, ci avvremo del dataset **Titanic**. Si tratta di un dataset classico, che riporta alcune informazioni, quali sesso, età, classe di imbarco e sopravvivenza di alcuni passaggeri del Titanic. Troviamo una versione del dataset al seguente URL:\n",
    "\n",
    "https://raw.githubusercontent.com/agconti/kaggle-titanic/master/data/train.csv\n",
    "\n",
    "Carichiamo il dataset mediante la libreria Pandas:"
   ]
  },
  {
   "cell_type": "code",
   "execution_count": 1,
   "metadata": {},
   "outputs": [],
   "source": [
    "import pandas as pd\n",
    "titanic = pd.read_csv('https://raw.githubusercontent.com/agconti/kaggle-titanic/master/data/train.csv',\n",
    "                     index_col='PassengerId')"
   ]
  },
  {
   "cell_type": "markdown",
   "metadata": {},
   "source": [
    "Visualizziamo alcune informazioni sul dataset:"
   ]
  },
  {
   "cell_type": "code",
   "execution_count": 2,
   "metadata": {},
   "outputs": [
    {
     "name": "stdout",
     "output_type": "stream",
     "text": [
      "<class 'pandas.core.frame.DataFrame'>\n",
      "Int64Index: 891 entries, 1 to 891\n",
      "Data columns (total 11 columns):\n",
      "Survived    891 non-null int64\n",
      "Pclass      891 non-null int64\n",
      "Name        891 non-null object\n",
      "Sex         891 non-null object\n",
      "Age         714 non-null float64\n",
      "SibSp       891 non-null int64\n",
      "Parch       891 non-null int64\n",
      "Ticket      891 non-null object\n",
      "Fare        891 non-null float64\n",
      "Cabin       204 non-null object\n",
      "Embarked    889 non-null object\n",
      "dtypes: float64(2), int64(4), object(5)\n",
      "memory usage: 83.5+ KB\n"
     ]
    }
   ],
   "source": [
    "titanic.info()"
   ]
  },
  {
   "cell_type": "markdown",
   "metadata": {},
   "source": [
    "Il dataset contiene $891$ osservazioni e $11$ colonne. Visualizziamo le prime righe del DataFrame per vedere com'è organizzato:"
   ]
  },
  {
   "cell_type": "code",
   "execution_count": 3,
   "metadata": {},
   "outputs": [
    {
     "data": {
      "text/html": [
       "<div>\n",
       "<style scoped>\n",
       "    .dataframe tbody tr th:only-of-type {\n",
       "        vertical-align: middle;\n",
       "    }\n",
       "\n",
       "    .dataframe tbody tr th {\n",
       "        vertical-align: top;\n",
       "    }\n",
       "\n",
       "    .dataframe thead th {\n",
       "        text-align: right;\n",
       "    }\n",
       "</style>\n",
       "<table border=\"1\" class=\"dataframe\">\n",
       "  <thead>\n",
       "    <tr style=\"text-align: right;\">\n",
       "      <th></th>\n",
       "      <th>Survived</th>\n",
       "      <th>Pclass</th>\n",
       "      <th>Name</th>\n",
       "      <th>Sex</th>\n",
       "      <th>Age</th>\n",
       "      <th>SibSp</th>\n",
       "      <th>Parch</th>\n",
       "      <th>Ticket</th>\n",
       "      <th>Fare</th>\n",
       "      <th>Cabin</th>\n",
       "      <th>Embarked</th>\n",
       "    </tr>\n",
       "    <tr>\n",
       "      <th>PassengerId</th>\n",
       "      <th></th>\n",
       "      <th></th>\n",
       "      <th></th>\n",
       "      <th></th>\n",
       "      <th></th>\n",
       "      <th></th>\n",
       "      <th></th>\n",
       "      <th></th>\n",
       "      <th></th>\n",
       "      <th></th>\n",
       "      <th></th>\n",
       "    </tr>\n",
       "  </thead>\n",
       "  <tbody>\n",
       "    <tr>\n",
       "      <th>1</th>\n",
       "      <td>0</td>\n",
       "      <td>3</td>\n",
       "      <td>Braund, Mr. Owen Harris</td>\n",
       "      <td>male</td>\n",
       "      <td>22.0</td>\n",
       "      <td>1</td>\n",
       "      <td>0</td>\n",
       "      <td>A/5 21171</td>\n",
       "      <td>7.2500</td>\n",
       "      <td>NaN</td>\n",
       "      <td>S</td>\n",
       "    </tr>\n",
       "    <tr>\n",
       "      <th>2</th>\n",
       "      <td>1</td>\n",
       "      <td>1</td>\n",
       "      <td>Cumings, Mrs. John Bradley (Florence Briggs Th...</td>\n",
       "      <td>female</td>\n",
       "      <td>38.0</td>\n",
       "      <td>1</td>\n",
       "      <td>0</td>\n",
       "      <td>PC 17599</td>\n",
       "      <td>71.2833</td>\n",
       "      <td>C85</td>\n",
       "      <td>C</td>\n",
       "    </tr>\n",
       "    <tr>\n",
       "      <th>3</th>\n",
       "      <td>1</td>\n",
       "      <td>3</td>\n",
       "      <td>Heikkinen, Miss. Laina</td>\n",
       "      <td>female</td>\n",
       "      <td>26.0</td>\n",
       "      <td>0</td>\n",
       "      <td>0</td>\n",
       "      <td>STON/O2. 3101282</td>\n",
       "      <td>7.9250</td>\n",
       "      <td>NaN</td>\n",
       "      <td>S</td>\n",
       "    </tr>\n",
       "    <tr>\n",
       "      <th>4</th>\n",
       "      <td>1</td>\n",
       "      <td>1</td>\n",
       "      <td>Futrelle, Mrs. Jacques Heath (Lily May Peel)</td>\n",
       "      <td>female</td>\n",
       "      <td>35.0</td>\n",
       "      <td>1</td>\n",
       "      <td>0</td>\n",
       "      <td>113803</td>\n",
       "      <td>53.1000</td>\n",
       "      <td>C123</td>\n",
       "      <td>S</td>\n",
       "    </tr>\n",
       "    <tr>\n",
       "      <th>5</th>\n",
       "      <td>0</td>\n",
       "      <td>3</td>\n",
       "      <td>Allen, Mr. William Henry</td>\n",
       "      <td>male</td>\n",
       "      <td>35.0</td>\n",
       "      <td>0</td>\n",
       "      <td>0</td>\n",
       "      <td>373450</td>\n",
       "      <td>8.0500</td>\n",
       "      <td>NaN</td>\n",
       "      <td>S</td>\n",
       "    </tr>\n",
       "  </tbody>\n",
       "</table>\n",
       "</div>"
      ],
      "text/plain": [
       "             Survived  Pclass  \\\n",
       "PassengerId                     \n",
       "1                   0       3   \n",
       "2                   1       1   \n",
       "3                   1       3   \n",
       "4                   1       1   \n",
       "5                   0       3   \n",
       "\n",
       "                                                          Name     Sex   Age  \\\n",
       "PassengerId                                                                    \n",
       "1                                      Braund, Mr. Owen Harris    male  22.0   \n",
       "2            Cumings, Mrs. John Bradley (Florence Briggs Th...  female  38.0   \n",
       "3                                       Heikkinen, Miss. Laina  female  26.0   \n",
       "4                 Futrelle, Mrs. Jacques Heath (Lily May Peel)  female  35.0   \n",
       "5                                     Allen, Mr. William Henry    male  35.0   \n",
       "\n",
       "             SibSp  Parch            Ticket     Fare Cabin Embarked  \n",
       "PassengerId                                                          \n",
       "1                1      0         A/5 21171   7.2500   NaN        S  \n",
       "2                1      0          PC 17599  71.2833   C85        C  \n",
       "3                0      0  STON/O2. 3101282   7.9250   NaN        S  \n",
       "4                1      0            113803  53.1000  C123        S  \n",
       "5                0      0            373450   8.0500   NaN        S  "
      ]
     },
     "execution_count": 3,
     "metadata": {},
     "output_type": "execute_result"
    }
   ],
   "source": [
    "titanic.head()"
   ]
  },
  {
   "cell_type": "markdown",
   "metadata": {},
   "source": [
    "## Numerosità\n",
    "\n",
    "La numerosità di un campione univariato $\\{x^{(i)}\\}_i^N$ è dato dal numero di valori in esso contenuto: $|X|=|\\{x^{(i)}\\}_i^N| = N$. La numerosità dei campioni costituiti dalle singole colonne può essere ottenuta mediante il metodo `len`:"
   ]
  },
  {
   "cell_type": "code",
   "execution_count": 4,
   "metadata": {},
   "outputs": [
    {
     "name": "stdout",
     "output_type": "stream",
     "text": [
      "891\n"
     ]
    }
   ],
   "source": [
    "print(len(titanic['Age']))"
   ]
  },
  {
   "cell_type": "markdown",
   "metadata": {},
   "source": [
    "Il metodo `len` però non considera i dati incompleti (la colonna potrebbe contenere dei `NaN`). Per ottenere un conteggio più corretto possiamo esplicitamente eliminare i `NaN` con `dropna`:"
   ]
  },
  {
   "cell_type": "code",
   "execution_count": 5,
   "metadata": {},
   "outputs": [
    {
     "name": "stdout",
     "output_type": "stream",
     "text": [
      "714\n"
     ]
    }
   ],
   "source": [
    "print(len(titanic['Age'].dropna()))"
   ]
  },
  {
   "cell_type": "markdown",
   "metadata": {},
   "source": [
    "Come possiamo notare, il campione è meno numeroso di quello che sembrava. Alternativamente possiamo richiamare `info` sul DataFrame:"
   ]
  },
  {
   "cell_type": "code",
   "execution_count": 6,
   "metadata": {},
   "outputs": [
    {
     "name": "stdout",
     "output_type": "stream",
     "text": [
      "<class 'pandas.core.frame.DataFrame'>\n",
      "Int64Index: 891 entries, 1 to 891\n",
      "Data columns (total 11 columns):\n",
      "Survived    891 non-null int64\n",
      "Pclass      891 non-null int64\n",
      "Name        891 non-null object\n",
      "Sex         891 non-null object\n",
      "Age         714 non-null float64\n",
      "SibSp       891 non-null int64\n",
      "Parch       891 non-null int64\n",
      "Ticket      891 non-null object\n",
      "Fare        891 non-null float64\n",
      "Cabin       204 non-null object\n",
      "Embarked    889 non-null object\n",
      "dtypes: float64(2), int64(4), object(5)\n",
      "memory usage: 83.5+ KB\n"
     ]
    }
   ],
   "source": [
    "titanic.info()"
   ]
  },
  {
   "cell_type": "markdown",
   "metadata": {},
   "source": [
    "Lo schema sopra mostra il numero di oggetti `non-null` per ogni colonna. Coerentemente con quanto visto prima, abbiamo solo $714$ elementi di `Age` validi."
   ]
  },
  {
   "cell_type": "markdown",
   "metadata": {},
   "source": [
    "> **🙋‍♂️ Domanda 1**\n",
    ">\n",
    "> Qual è la numerosità di `Cabin`?"
   ]
  },
  {
   "cell_type": "markdown",
   "metadata": {},
   "source": [
    "## Indicatori Centrali: Media, Mediana e Moda\n",
    "\n",
    "Gli indicatori centrali danno un'idea approssimata dell'ordine di grandezza dei valori del campione. \n",
    "\n",
    "### Media\n",
    "\n",
    "La media di un campione è definita come la somma dei suoi valori diviso la sua numerosità: $\\overline X = \\frac{1}{N}\\sum_i^N x^{(i)}$. Possiamo calcolarlo manualmente:"
   ]
  },
  {
   "cell_type": "code",
   "execution_count": 7,
   "metadata": {},
   "outputs": [
    {
     "data": {
      "text/plain": [
       "29.69911764705882"
      ]
     },
     "execution_count": 7,
     "metadata": {},
     "output_type": "execute_result"
    }
   ],
   "source": [
    "titanic['Age'].sum()/len(titanic['Age'].dropna())"
   ]
  },
  {
   "cell_type": "markdown",
   "metadata": {},
   "source": [
    "O semplicemente mediante la funzione `mean`:"
   ]
  },
  {
   "cell_type": "code",
   "execution_count": 8,
   "metadata": {},
   "outputs": [
    {
     "data": {
      "text/plain": [
       "29.69911764705882"
      ]
     },
     "execution_count": 8,
     "metadata": {},
     "output_type": "execute_result"
    }
   ],
   "source": [
    "titanic['Age'].mean()"
   ]
  },
  {
   "cell_type": "markdown",
   "metadata": {},
   "source": [
    "\n",
    "> **🙋‍♂️ Domanda 2**\n",
    ">\n",
    "> In quali casi la media riassume bene i dati? In quali casi no?"
   ]
  },
  {
   "cell_type": "markdown",
   "metadata": {},
   "source": [
    "### Mediana\n",
    "\n",
    "Quando gli elementi di un campione possono essere ordinati (ad esempio se sono valori numerici), la mediana di un campione (o l'elemento mediano) è l'elemento che divide in due parti uguali l'insieme ordinato dei valori del campione.  L'elemento mediano di può ottenere ordinando i valori del campione e prendendo quello che si trova nella posizione intermedia:"
   ]
  },
  {
   "cell_type": "code",
   "execution_count": 9,
   "metadata": {},
   "outputs": [
    {
     "name": "stdout",
     "output_type": "stream",
     "text": [
      "3   -4\n",
      "1   -2\n",
      "0    1\n",
      "2    3\n",
      "4    7\n",
      "dtype: int64\n",
      "Mediana: 1\n"
     ]
    }
   ],
   "source": [
    "import numpy as np\n",
    "a=pd.Series([1,-2,3,-4,7])\n",
    "print(a.sort_values())\n",
    "print(\"Mediana: {}\".format(a.sort_values().iloc[2]))"
   ]
  },
  {
   "cell_type": "markdown",
   "metadata": {},
   "source": [
    "o alternativamente mediante il metodo `median`:"
   ]
  },
  {
   "cell_type": "code",
   "execution_count": 10,
   "metadata": {},
   "outputs": [
    {
     "data": {
      "text/plain": [
       "1.0"
      ]
     },
     "execution_count": 10,
     "metadata": {},
     "output_type": "execute_result"
    }
   ],
   "source": [
    "a.median()"
   ]
  },
  {
   "cell_type": "markdown",
   "metadata": {},
   "source": [
    "Calcoliamo ad esempio il valore mediano di `Age`:"
   ]
  },
  {
   "cell_type": "code",
   "execution_count": 11,
   "metadata": {},
   "outputs": [
    {
     "data": {
      "text/plain": [
       "28.0"
      ]
     },
     "execution_count": 11,
     "metadata": {},
     "output_type": "execute_result"
    }
   ],
   "source": [
    "titanic['Age'].median()"
   ]
  },
  {
   "cell_type": "markdown",
   "metadata": {},
   "source": [
    "\n",
    "> **🙋‍♂️ Domanda 3**\n",
    ">\n",
    "> Si confronti la media di `Age` con la sua mediana. I due valori corrispondono? Perché? Quali dei due valori è uguale a uno dei valori appartenente al campione?"
   ]
  },
  {
   "cell_type": "markdown",
   "metadata": {},
   "source": [
    "### Moda\n",
    "La moda di un campione è l'elemento che si ripete più spesso. Possiamo calcolare la moda ordinando i valori per frequenza mediante `value_counts` e selezionando l'indice del primo valore:"
   ]
  },
  {
   "cell_type": "code",
   "execution_count": 12,
   "metadata": {},
   "outputs": [
    {
     "name": "stdout",
     "output_type": "stream",
     "text": [
      "24.0    30\n",
      "22.0    27\n",
      "18.0    26\n",
      "19.0    25\n",
      "30.0    25\n",
      "Name: Age, dtype: int64\n",
      "Moda:  24.0\n"
     ]
    }
   ],
   "source": [
    "print(titanic['Age'].value_counts().head())\n",
    "print(\"Moda: \",titanic['Age'].value_counts().index[0])"
   ]
  },
  {
   "cell_type": "markdown",
   "metadata": {},
   "source": [
    "Alternativamente, possiamo usare la funzione `mode`:"
   ]
  },
  {
   "cell_type": "code",
   "execution_count": 13,
   "metadata": {},
   "outputs": [
    {
     "data": {
      "text/plain": [
       "0    24.0\n",
       "dtype: float64"
      ]
     },
     "execution_count": 13,
     "metadata": {},
     "output_type": "execute_result"
    }
   ],
   "source": [
    "titanic['Age'].mode()"
   ]
  },
  {
   "cell_type": "markdown",
   "metadata": {},
   "source": [
    "\n",
    "> **🙋‍♂️ Domanda 4**\n",
    ">\n",
    "> Si confrontino la moda di `Age` con la sua media. I valori corrispondono? Perché? "
   ]
  },
  {
   "cell_type": "markdown",
   "metadata": {},
   "source": [
    "## Indicatori di dispersione (1): estremi, range, quartili"
   ]
  },
  {
   "cell_type": "markdown",
   "metadata": {},
   "source": [
    "### Minimo, Massimo e Range\n",
    "Semplici indici di dispersione sono il minimo ($min \\{x^{(i)}\\}_i^N$), il massimo ($max \\{x^{(i)}\\}_i^N$) e il range ($max \\{x^{(i)}\\}_i^N$ - $min \\{x^{(i)}\\}_i^N$). Questi possono essere facilmente calcolati come segue:"
   ]
  },
  {
   "cell_type": "code",
   "execution_count": 14,
   "metadata": {},
   "outputs": [
    {
     "name": "stdout",
     "output_type": "stream",
     "text": [
      "Minimo: 0.42\n",
      "Massimo: 80.0\n",
      "Range: 79.58\n"
     ]
    }
   ],
   "source": [
    "print(\"Minimo:\", titanic['Age'].min())\n",
    "print(\"Massimo:\", titanic['Age'].max())\n",
    "print(\"Range:\", titanic['Age'].max() - titanic['Age'].min())"
   ]
  },
  {
   "cell_type": "markdown",
   "metadata": {},
   "source": [
    "\n",
    "> **🙋‍♂️ Domanda 5**\n",
    ">\n",
    "> Il range è un indicatore di dispersione robusto alla presenza di \"outliers\"?"
   ]
  },
  {
   "cell_type": "markdown",
   "metadata": {},
   "source": [
    "Il range dei dati dipende fortemente dalla natura dei dati e dalla loro unità di misura. Ad esempio, le età dei passeggeri del Titanic si misurano in anni, mentre i prezzi pagati per il biglietto in sterline. Per evitare problemi di stabilità di calcolo quando si utilizzano dati in unità di misure diverse, è prassi comune normalizzarli in modo che il loro range sia compreso entro determinati limiti."
   ]
  },
  {
   "cell_type": "markdown",
   "metadata": {},
   "source": [
    "#### Normalizzazione tra 0 e 1\n",
    "I dati vengono riscalati come segue:\n",
    "\\begin{equation}\n",
    "x_{norm} = (x-x_{min})/(x_{max}-x_{min})\n",
    "\\end{equation}\n",
    "\n",
    "Possiamo effettuare questa trasformazione in Pandas come segue:"
   ]
  },
  {
   "cell_type": "code",
   "execution_count": 15,
   "metadata": {},
   "outputs": [],
   "source": [
    "age_norm_01 = (titanic['Age']-titanic['Age'].min())/(titanic['Age'].max()-titanic['Age'].min())"
   ]
  },
  {
   "cell_type": "markdown",
   "metadata": {},
   "source": [
    "Verifichiamo che gli estremi del nuovo campione siano 0 e 1:"
   ]
  },
  {
   "cell_type": "code",
   "execution_count": 16,
   "metadata": {},
   "outputs": [
    {
     "name": "stdout",
     "output_type": "stream",
     "text": [
      "0.0 1.0\n"
     ]
    }
   ],
   "source": [
    "print(age_norm_01.min(), age_norm_01.max())"
   ]
  },
  {
   "cell_type": "markdown",
   "metadata": {},
   "source": [
    "#### Normalizzazione tra -1 e 1\n",
    "I dati vengono riscalati come segue:\n",
    "\\begin{equation}\n",
    "x_{norm} = (x_{max}+x_{min}-2\\cdot x)/(x_{max}-x_{min})\n",
    "\\end{equation}\n",
    "\n",
    "Possiamo effettuare questa trasformazione in Pandas come segue:"
   ]
  },
  {
   "cell_type": "code",
   "execution_count": 17,
   "metadata": {},
   "outputs": [],
   "source": [
    "age_norm_11 = (titanic['Age'].max()+titanic['Age'].min()-2*titanic['Age'])/(titanic['Age'].max()-titanic['Age'].min())"
   ]
  },
  {
   "cell_type": "markdown",
   "metadata": {},
   "source": [
    "Verifichiamo che gli estremi del nuovo campione siano -1 e 1:"
   ]
  },
  {
   "cell_type": "code",
   "execution_count": 18,
   "metadata": {},
   "outputs": [
    {
     "name": "stdout",
     "output_type": "stream",
     "text": [
      "-1.0 1.0\n"
     ]
    }
   ],
   "source": [
    "print(age_norm_11.min(), age_norm_11.max())"
   ]
  },
  {
   "cell_type": "markdown",
   "metadata": {},
   "source": [
    "### Quantili, Percentili e Quartili\n",
    "\n",
    "In pandas, i quantili si ottengono mediante il metodo `quantile`:"
   ]
  },
  {
   "cell_type": "code",
   "execution_count": 19,
   "metadata": {},
   "outputs": [
    {
     "name": "stdout",
     "output_type": "stream",
     "text": [
      "Quantile di ordine 0 (minimo): 0.42\n",
      "Quantile di ordine 0.5 (mediana): 28.0\n",
      "Quantile di ordine 1 (massimo): 80.0\n",
      "Quantile di ordine 0.15: 17.0\n"
     ]
    }
   ],
   "source": [
    "print(\"Quantile di ordine 0 (minimo):\", titanic['Age'].quantile(0))\n",
    "print(\"Quantile di ordine 0.5 (mediana):\", titanic['Age'].quantile(0.5))\n",
    "print(\"Quantile di ordine 1 (massimo):\", titanic['Age'].quantile(1))\n",
    "print(\"Quantile di ordine 0.15:\", titanic['Age'].quantile(0.15))"
   ]
  },
  {
   "cell_type": "markdown",
   "metadata": {},
   "source": [
    "I percentili si ottengono sempre mediante la funzione `quantile`, dividendo l'ordine per percentile per 100:"
   ]
  },
  {
   "cell_type": "code",
   "execution_count": 20,
   "metadata": {},
   "outputs": [
    {
     "name": "stdout",
     "output_type": "stream",
     "text": [
      "Percentile di ordine 50% (mediana): 28.0\n",
      "Percentile di ordine 30%: 22.0\n"
     ]
    }
   ],
   "source": [
    "print(\"Percentile di ordine 50% (mediana):\", titanic['Age'].quantile(50/100))\n",
    "print(\"Percentile di ordine 30%:\", titanic['Age'].quantile(30/100))"
   ]
  },
  {
   "cell_type": "markdown",
   "metadata": {},
   "source": [
    "Analogamente, i quartili si ottengono dividendo l'ordine del quartile per 4:"
   ]
  },
  {
   "cell_type": "code",
   "execution_count": 21,
   "metadata": {},
   "outputs": [
    {
     "name": "stdout",
     "output_type": "stream",
     "text": [
      "Quartile di ordine 0 (minimo): 0.42\n",
      "Quartile di ordine 1: 20.125\n",
      "Quartile di ordine 2 (mediana): 28.0\n",
      "Quartile di ordine 3: 38.0\n",
      "Quartile di ordine 4 (massimo): 80.0\n"
     ]
    }
   ],
   "source": [
    "print(\"Quartile di ordine 0 (minimo):\", titanic['Age'].quantile(0/4))\n",
    "print(\"Quartile di ordine 1:\", titanic['Age'].quantile(1/4))\n",
    "print(\"Quartile di ordine 2 (mediana):\", titanic['Age'].quantile(2/4))\n",
    "print(\"Quartile di ordine 3:\", titanic['Age'].quantile(3/4))\n",
    "print(\"Quartile di ordine 4 (massimo):\", titanic['Age'].quantile(4/4))"
   ]
  },
  {
   "cell_type": "markdown",
   "metadata": {},
   "source": [
    "\n",
    "> **🙋‍♂️ Domanda 6**\n",
    ">\n",
    "> Anche i quartili, come il minimo e il massimo, permettono di farsi un'idea dell'ordine di grandezza dei dati analizzati, tuttavia, i quartili hanno un vantaggio, quale?"
   ]
  },
  {
   "cell_type": "markdown",
   "metadata": {},
   "source": [
    "## Boxplot\n",
    "\n",
    "I boxplot costituiscono un metodo di visualizzazione compatto per rappresentare alcune caratteristiche descrittive dei dati sotto analisi. In particolare, dato un campione, un boxplot riesce a rappresentarne efficacemente le seguenti quantità:\n",
    " * Valore mediano;\n",
    " * Primo e terzo quartile;\n",
    " * Minimo e massimo (a seconda della \"versione\" del boxplot, come discusso di seguito).\n",
    "\n",
    "Possiamo visualizzare un boxplot direttamente mediante `Pandas`:"
   ]
  },
  {
   "cell_type": "code",
   "execution_count": 58,
   "metadata": {},
   "outputs": [
    {
     "data": {
      "image/png": "[encoded data removed]",
      "text/plain": [
       "<Figure size 144x432 with 1 Axes>"
      ]
     },
     "metadata": {
      "needs_background": "light"
     },
     "output_type": "display_data"
    }
   ],
   "source": [
    "from matplotlib import pyplot as plt\n",
    "titanic['Age'].plot.box(figsize=(2,6))\n",
    "plt.grid()\n",
    "plt.show()"
   ]
  },
  {
   "cell_type": "markdown",
   "metadata": {},
   "source": [
    "Il boxplot si mostra come una \"scatola\" con dei \"baffi\" in cui:\n",
    " * l'estremo inferiore della scatola indica il primo quartile;\n",
    " * l'estremo superiore della scatola indica il terzo quartile;\n",
    " * la linea orizzontale in mezzo alla scatola rappresenta il valore mediano del campione;\n",
    " * il baffo inferiore rappresenta il primo valore nel campione che risulta essere maggiore o uguale al primo quartile meno una volta e mezza la distanza tra i il terzo e il primo quartile;\n",
    " * il baffo superiore rappresenta il primo valore nel campione che risulta essere minore o uguale al terzo quartile più una volta e mezza la distanza tra i il terzo e il primo quartile;\n",
    " * i tondini rappresentano i valori \"fuori limite\" che ricadono fuori dall'intervallo contrassegnato dai baffi. Vengono in genere considerati come \"outliers\"."
   ]
  },
  {
   "cell_type": "markdown",
   "metadata": {},
   "source": [
    "Alternativamente, possiamo mostrare un boxplot mediante matplotlib:"
   ]
  },
  {
   "cell_type": "code",
   "execution_count": 23,
   "metadata": {},
   "outputs": [
    {
     "data": {
      "image/png": "[encoded data removed]",
      "text/plain": [
       "<Figure size 144x432 with 1 Axes>"
      ]
     },
     "metadata": {
      "needs_background": "light"
     },
     "output_type": "display_data"
    }
   ],
   "source": [
    "plt.figure(figsize=(2,6))\n",
    "plt.boxplot(titanic['Age'].dropna())#inseriamo dropna per eliminare i NaN\n",
    "plt.grid()\n",
    "plt.show()"
   ]
  },
  {
   "cell_type": "markdown",
   "metadata": {},
   "source": [
    "### Boxplot Multipli\n",
    "\n",
    "Mediante `Pandas` è possibile mostrare i boxplot di tutte le variabili numeriche di un DataFrame come segue:"
   ]
  },
  {
   "cell_type": "code",
   "execution_count": 24,
   "metadata": {},
   "outputs": [
    {
     "data": {
      "image/png": "[encoded data removed]",
      "text/plain": [
       "<Figure size 432x288 with 1 Axes>"
      ]
     },
     "metadata": {
      "needs_background": "light"
     },
     "output_type": "display_data"
    }
   ],
   "source": [
    "titanic.plot.box()\n",
    "plt.grid()\n",
    "plt.show()"
   ]
  },
  {
   "cell_type": "markdown",
   "metadata": {},
   "source": [
    "Se vogliamo restringere l'analisi ad alcune variabili, possiamo selezionare solo le variabili interessate come segue:"
   ]
  },
  {
   "cell_type": "code",
   "execution_count": 25,
   "metadata": {},
   "outputs": [
    {
     "data": {
      "image/png": "[encoded data removed]",
      "text/plain": [
       "<Figure size 432x288 with 1 Axes>"
      ]
     },
     "metadata": {
      "needs_background": "light"
     },
     "output_type": "display_data"
    }
   ],
   "source": [
    "titanic[['Age','Fare']].plot.box()\n",
    "plt.grid()\n",
    "plt.show()"
   ]
  },
  {
   "cell_type": "markdown",
   "metadata": {},
   "source": [
    "E' inoltre possibile confrontare i boxplot di diversi campioni. Supponiamo di voler confrontare le età di uomini e donne:"
   ]
  },
  {
   "cell_type": "code",
   "execution_count": 26,
   "metadata": {},
   "outputs": [
    {
     "data": {
      "image/png": "[encoded data removed]",
      "text/plain": [
       "<Figure size 576x432 with 1 Axes>"
      ]
     },
     "metadata": {
      "needs_background": "light"
     },
     "output_type": "display_data"
    }
   ],
   "source": [
    "titanic.boxplot(by='Sex',column=['Age'], figsize=(8,6))\n",
    "plt.show()"
   ]
  },
  {
   "cell_type": "markdown",
   "metadata": {},
   "source": [
    "Nel caso di variabili multiple:"
   ]
  },
  {
   "cell_type": "code",
   "execution_count": 27,
   "metadata": {},
   "outputs": [
    {
     "data": {
      "image/png": "[encoded data removed]",
      "text/plain": [
       "<Figure size 576x432 with 2 Axes>"
      ]
     },
     "metadata": {
      "needs_background": "light"
     },
     "output_type": "display_data"
    }
   ],
   "source": [
    "titanic.boxplot(by='Sex',column=['Age','Fare'], figsize=(8,6))\n",
    "plt.show()"
   ]
  },
  {
   "cell_type": "markdown",
   "metadata": {},
   "source": [
    "Possiamo anche combinare i boxplot con un `groupby`. Confrontiamo ad esempio le tariffe pagate da e donne appartenenti alle tre classi di imbarco:"
   ]
  },
  {
   "cell_type": "code",
   "execution_count": 28,
   "metadata": {},
   "outputs": [
    {
     "data": {
      "image/png": "[encoded data removed]",
      "text/plain": [
       "<Figure size 864x288 with 3 Axes>"
      ]
     },
     "metadata": {
      "needs_background": "light"
     },
     "output_type": "display_data"
    }
   ],
   "source": [
    "titanic.groupby('Pclass').boxplot(by='Sex',column=['Fare'], figsize=(12,4), layout=(1,3))\n",
    "plt.show()"
   ]
  },
  {
   "cell_type": "code",
   "execution_count": 29,
   "metadata": {},
   "outputs": [
    {
     "data": {
      "image/png": "[encoded data removed]",
      "text/plain": [
       "<Figure size 864x288 with 3 Axes>"
      ]
     },
     "metadata": {
      "needs_background": "light"
     },
     "output_type": "display_data"
    }
   ],
   "source": [
    "titanic.groupby('Pclass').boxplot(by='Sex',column=['Age'], figsize=(12,4), layout=(1,3))\n",
    "plt.show()"
   ]
  },
  {
   "cell_type": "markdown",
   "metadata": {},
   "source": [
    "> **🙋‍♂️ Domanda 7**\n",
    ">\n",
    "> Si confrontino le età di donne e uomini nelle varie classi di imbarco. In quale classe esistano differenze notevoli tra le età di uomini e donne?"
   ]
  },
  {
   "cell_type": "markdown",
   "metadata": {},
   "source": [
    "## Indicatori di dispersione (2), distanza inter-quartile e varianza"
   ]
  },
  {
   "cell_type": "markdown",
   "metadata": {},
   "source": [
    "### Distanza interquartile\n",
    "\n",
    "Il range non è un indice di dispersione molto robusto, in quanto non tiene conto della presenza di evenutali outliers. Si considerino ad esempio le seguenti popolazioni \"artificiali\":"
   ]
  },
  {
   "cell_type": "code",
   "execution_count": 30,
   "metadata": {},
   "outputs": [
    {
     "data": {
      "image/png": "[encoded data removed]",
      "text/plain": [
       "<Figure size 432x288 with 1 Axes>"
      ]
     },
     "metadata": {
      "needs_background": "light"
     },
     "output_type": "display_data"
    },
    {
     "name": "stdout",
     "output_type": "stream",
     "text": [
      "Range sample 1: 4.0\n",
      "Range sample 2: 20.0\n"
     ]
    }
   ],
   "source": [
    "sample1 = np.linspace(3,7,100)\n",
    "sample2 = sample1.copy()\n",
    "sample2[0]=-5 #sostituiamo due valori con gli outliers -5\n",
    "sample2[-1]=15 # e 15\n",
    "\n",
    "df = pd.DataFrame({'s1':sample1,'s2':sample2})\n",
    "\n",
    "df.plot.box()\n",
    "plt.grid()\n",
    "plt.show()\n",
    "\n",
    "print(\"Range sample 1:\",df['s1'].max()-df['s1'].min())\n",
    "print(\"Range sample 2:\",df['s2'].max()-df['s2'].min())"
   ]
  },
  {
   "cell_type": "markdown",
   "metadata": {},
   "source": [
    "I campioni sono simili, ma la presenza di due outliers (-5 e 15) nel secondo campione rende i range molto diversi (4 e 20).\n",
    "\n",
    "Confrontando i due boxplot mostrati sopra, notiamo che le posizioni del terzo e del primo quartile sono più \"robuste\" agli outliers. Una misura di dispersione un po' più espressiva è dunque lo **scarto interquartile** (o **distanza interquartile**), che si misura come la differenza tra il terzo e il primo quartile:"
   ]
  },
  {
   "cell_type": "code",
   "execution_count": 31,
   "metadata": {},
   "outputs": [
    {
     "name": "stdout",
     "output_type": "stream",
     "text": [
      "Lo scarto interquartile di sample 1 è: 2.0\n",
      "Lo scarto interquartile di sample 2 è: 2.0\n"
     ]
    }
   ],
   "source": [
    "q11,q13 = df['s1'].quantile([1/4,3/4])\n",
    "q21,q23 = df['s2'].quantile([1/4,3/4])\n",
    "print(\"Lo scarto interquartile di sample 1 è:\",q13-q11)\n",
    "print(\"Lo scarto interquartile di sample 2 è:\",q23-q21)"
   ]
  },
  {
   "cell_type": "markdown",
   "metadata": {},
   "source": [
    "> **🙋‍♂️ Domanda 8**\n",
    ">\n",
    "> La distanza interquartile è sempre una misura di dispersione robusta? Cosa succede nel caso di distribuzioni fortemente asimmetriche?"
   ]
  },
  {
   "cell_type": "markdown",
   "metadata": {},
   "source": [
    "### Varianza e Deviazione Standard\n",
    "\n",
    "La varianza (detto anche scarto quadratico medio) fornisce una stima di quanto i dati osservati si allontanano dalla media. La varianza calcola la media dei quadrati degli scarti dei valori rispetto alla media, penalizzando i grandi scostamenti dal valore medio (dovuti agli outliers) maggiormente più dei piccoli scostamenti:\n",
    "\n",
    "\\begin{equation}\n",
    "s^2 = \\frac{\\sum_{i=1}^n(x_i-\\overline x)^2}{n}\n",
    "\\end{equation}\n",
    "\n",
    "La varianza può essere calcolata richiamando il metodo `var`:"
   ]
  },
  {
   "cell_type": "code",
   "execution_count": 32,
   "metadata": {},
   "outputs": [
    {
     "name": "stdout",
     "output_type": "stream",
     "text": [
      "1.3740094548175354\n",
      "3.313403394211474\n"
     ]
    }
   ],
   "source": [
    "print(df['s1'].var())\n",
    "print(df['s2'].var())"
   ]
  },
  {
   "cell_type": "markdown",
   "metadata": {},
   "source": [
    "Gli indici di dispersione visti fino ad ora (esclusa la varianza) hanno come unità di misura la stessa dei dati di input. Nel caso della popolazione di età dei passeggeri del Titanic, i dati vengono misurati in anni. E' pertanto corretto dire che **minimo**, **massimo**, **range**, **scarto interquartile** e **scarto medio assoluto** della popolazione si misurano in anni."
   ]
  },
  {
   "cell_type": "markdown",
   "metadata": {},
   "source": [
    "Lo stesso discorso non vale per la varianza, che si misurera in **anni al quadrato**. Se vogliamo ottenere una misura di dispersione **commensurabile**, possiamo calcolare la radice quadrata della varianza, ottenendo così la **deviazione standard** (o **scarto quadratico medio**), che si definisce come segue:\n",
    "\n",
    "\\begin{equation}\n",
    "s = \\sqrt{s^2}=\\sqrt{\\frac{\\sum_{i=1}{n}(x_i-x^2)}{n}}\n",
    "\\end{equation}\n",
    "\n",
    "La **deviazione standard** si calcola mediante il metodo `std`:"
   ]
  },
  {
   "cell_type": "code",
   "execution_count": 33,
   "metadata": {},
   "outputs": [
    {
     "name": "stdout",
     "output_type": "stream",
     "text": [
      "Deviazione standard del campione: 14.526497332334044 anni\n"
     ]
    }
   ],
   "source": [
    "print(\"Deviazione standard del campione:\",titanic['Age'].std(),\"anni\")"
   ]
  },
  {
   "cell_type": "markdown",
   "metadata": {},
   "source": [
    "La deviazione standard ci dice qualcosa anche sulla \"forma\" della distribuzione. Confrontiamo ad esempio le deviazioni standard delle età dei passeggeri appartenenti alle tre classi di imbarco:"
   ]
  },
  {
   "cell_type": "code",
   "execution_count": 34,
   "metadata": {},
   "outputs": [
    {
     "data": {
      "text/plain": [
       "Pclass\n",
       "1    14.802856\n",
       "2    14.001077\n",
       "3    12.495398\n",
       "Name: Age, dtype: float64"
      ]
     },
     "execution_count": 34,
     "metadata": {},
     "output_type": "execute_result"
    }
   ],
   "source": [
    "titanic.groupby('Pclass')['Age'].std()"
   ]
  },
  {
   "cell_type": "markdown",
   "metadata": {},
   "source": [
    "Confrontiamo adesso le densità stimate dai tre campioni:"
   ]
  },
  {
   "cell_type": "code",
   "execution_count": 35,
   "metadata": {},
   "outputs": [
    {
     "data": {
      "image/png": "[encoded data removed]",
      "text/plain": [
       "<Figure size 576x288 with 1 Axes>"
      ]
     },
     "metadata": {
      "needs_background": "light"
     },
     "output_type": "display_data"
    }
   ],
   "source": [
    "titanic.groupby('Pclass')['Age'].plot.density(figsize=(8,4))\n",
    "plt.grid()\n",
    "plt.legend()\n",
    "plt.show()"
   ]
  },
  {
   "cell_type": "markdown",
   "metadata": {},
   "source": [
    "> **🙋‍♂️ Domanda 9**\n",
    ">\n",
    "> Esiste una relazione tra le deviazioni standard dei campioni e le relative densità? Quale?"
   ]
  },
  {
   "cell_type": "markdown",
   "metadata": {},
   "source": [
    "### Standardizzazione (z-scoring)\n",
    "\n",
    "In molti casi è utile normalizzare i dati in modo che essi presentino media nulla e deviazione standard unitaria. Questo tipo di normalizzazione viene detta \"z-scoring\" e viene effettuata sottraendo ai dati la media e dividendo per la deviazione standard. \n",
    "\n",
    "\\begin{equation}\n",
    "z_i = \\frac{x_i-\\mu_X}{\\sigma_X}\n",
    "\\end{equation}\n",
    "\n",
    "dove $\\sigma_X$ è la deviazione standard della popolazione alla quale appartiene $X$. Si noti che gli zeta scores sono **adimensionali** (ovvero, non hanno unità di misura).\n",
    "\n",
    "Possiamo effettuare questa normalizzazione usando la funzione `zscore` di `scipy`:"
   ]
  },
  {
   "cell_type": "code",
   "execution_count": 36,
   "metadata": {},
   "outputs": [
    {
     "data": {
      "text/plain": [
       "array([-1.41421356, -0.70710678,  0.        ,  0.70710678,  1.41421356])"
      ]
     },
     "execution_count": 36,
     "metadata": {},
     "output_type": "execute_result"
    }
   ],
   "source": [
    "from scipy.stats import zscore\n",
    "zscore([0,1,2,3,4])"
   ]
  },
  {
   "cell_type": "markdown",
   "metadata": {},
   "source": [
    "Applichiamo questa normalizzazione alle età dei passeggeri del Titanic:"
   ]
  },
  {
   "cell_type": "code",
   "execution_count": 37,
   "metadata": {},
   "outputs": [
    {
     "data": {
      "image/png": "[encoded data removed]",
      "text/plain": [
       "<Figure size 432x288 with 1 Axes>"
      ]
     },
     "metadata": {
      "needs_background": "light"
     },
     "output_type": "display_data"
    }
   ],
   "source": [
    "age_z=zscore(titanic['Age'].dropna())\n",
    "plt.boxplot(age_z)\n",
    "plt.show()"
   ]
  },
  {
   "cell_type": "markdown",
   "metadata": {},
   "source": [
    "Una interpretazione comune degli z-scores è che essi misurano la deviazione dalla media in termini di deviazione standard della popolazione rispondendo alla domande \"quante $\\sigma$ ci sono tra il campione e la media\"? "
   ]
  },
  {
   "cell_type": "markdown",
   "metadata": {},
   "source": [
    "## Indicatori di forma\n",
    "\n",
    "Gli indicatori di forma permettono di farsi un'idea su determinati aspetti della \"forma\" della distribuzione."
   ]
  },
  {
   "cell_type": "markdown",
   "metadata": {},
   "source": [
    "### Asimmetria (skewness)\n",
    "La skewness è indice dello \"sbilanciamento\" a sinistra (valore negativo) o a destra (valore positivo) di un campione di dati rispetto al valore centrale. Se la skewness è zero, allora la distribuzione dei dati è bilanciata rispetto al valore centrale. Calcoliamo la skewness di tutte le colonne del dataframe:"
   ]
  },
  {
   "cell_type": "code",
   "execution_count": 38,
   "metadata": {},
   "outputs": [
    {
     "data": {
      "text/plain": [
       "Survived    0.478523\n",
       "Pclass     -0.630548\n",
       "Age         0.389108\n",
       "SibSp       3.695352\n",
       "Parch       2.749117\n",
       "Fare        4.787317\n",
       "dtype: float64"
      ]
     },
     "execution_count": 38,
     "metadata": {},
     "output_type": "execute_result"
    }
   ],
   "source": [
    "titanic.skew()"
   ]
  },
  {
   "cell_type": "markdown",
   "metadata": {},
   "source": [
    "Consideriamo la variabile `Parch` e visualizziamone il density plot:"
   ]
  },
  {
   "cell_type": "code",
   "execution_count": 39,
   "metadata": {},
   "outputs": [
    {
     "data": {
      "image/png": "[encoded data removed]",
      "text/plain": [
       "<Figure size 432x288 with 1 Axes>"
      ]
     },
     "metadata": {
      "needs_background": "light"
     },
     "output_type": "display_data"
    }
   ],
   "source": [
    "titanic['Parch'].plot.density()\n",
    "plt.show()"
   ]
  },
  {
   "cell_type": "markdown",
   "metadata": {},
   "source": [
    "Allo stesso modo, consideriamo la variabile `Pclass` e visualizziamone il density plot:"
   ]
  },
  {
   "cell_type": "code",
   "execution_count": 40,
   "metadata": {},
   "outputs": [
    {
     "data": {
      "image/png": "[encoded data removed]",
      "text/plain": [
       "<Figure size 432x288 with 1 Axes>"
      ]
     },
     "metadata": {
      "needs_background": "light"
     },
     "output_type": "display_data"
    }
   ],
   "source": [
    "titanic['Pclass'].plot.density()\n",
    "plt.show()"
   ]
  },
  {
   "cell_type": "markdown",
   "metadata": {},
   "source": [
    "> **🙋‍♂️ Domanda 10**\n",
    ">\n",
    "> I plot sono in accordo con i valori di skewness calcolati sopra? Verificare anche nel caso di altre veriabili."
   ]
  },
  {
   "cell_type": "markdown",
   "metadata": {},
   "source": [
    "### Curtosi (kurtosis)\n",
    "L'indice di curtosi misura lo \"spessore\" delle code di una misura di densità. Nella versione implementata in `Pandas`, esso è definito come segue:\n",
    "\n",
    "\\begin{equation}\n",
    "k=\\frac{m^4}{\\sigma^4} - 3\n",
    "\\end{equation}\n",
    "\n",
    "dove $m^4$ è il quarto momento centrale, $\\sigma^4$ è il quadrato della varianza e $\\frac{m^4}{\\sigma^4}=3$ nel caso di una distribuzione normale (dunque $k=0$ nel caso di una distribuzione Normale). L'indice va interpretato così:\n",
    " * Se è maggiore di zero, la distribuzione è *leptocurtica*, ovvero più \"appuntita\" di una distribuzione Normale;\n",
    " * Se è minore di zero, la distribuzione è *platicurtica*, ovvero più \"piatta\" di una distribuzione Normale;\n",
    " * Se è uguale a zero, la distribuzione è *normocurtica *, ovvero le code sono simili a quelle di una normale.\n",
    " \n",
    "Calcoliamo gli indici di curtosi delle varie colonne:"
   ]
  },
  {
   "cell_type": "code",
   "execution_count": 41,
   "metadata": {},
   "outputs": [
    {
     "data": {
      "text/plain": [
       "Survived    -1.775005\n",
       "Pclass      -1.280015\n",
       "Age          0.178274\n",
       "SibSp       17.880420\n",
       "Parch        9.778125\n",
       "Fare        33.398141\n",
       "dtype: float64"
      ]
     },
     "execution_count": 41,
     "metadata": {},
     "output_type": "execute_result"
    }
   ],
   "source": [
    "titanic.kurtosis()"
   ]
  },
  {
   "cell_type": "markdown",
   "metadata": {},
   "source": [
    "Stimiamo la densità di Fare, che mostra un alto indice di curtosi:"
   ]
  },
  {
   "cell_type": "code",
   "execution_count": 42,
   "metadata": {},
   "outputs": [
    {
     "data": {
      "image/png": "[encoded data removed]",
      "text/plain": [
       "<Figure size 432x288 with 1 Axes>"
      ]
     },
     "metadata": {
      "needs_background": "light"
     },
     "output_type": "display_data"
    }
   ],
   "source": [
    "titanic['Fare'].plot.density()\n",
    "plt.show()"
   ]
  },
  {
   "cell_type": "markdown",
   "metadata": {},
   "source": [
    "> **🙋‍♂️ Domanda 11**\n",
    ">\n",
    "> La distribuzione è più o meno \"appuntita\" di una Normale? E' coerente con l'interpretazione dell'indice di curtosi? Verificare la relazione tra forma e indice di curtosi anche per altre variabili."
   ]
  },
  {
   "cell_type": "markdown",
   "metadata": {},
   "source": [
    "Allo stesso modo, mostriamo la densità di Survived:"
   ]
  },
  {
   "cell_type": "code",
   "execution_count": 43,
   "metadata": {},
   "outputs": [
    {
     "data": {
      "image/png": "[encoded data removed]",
      "text/plain": [
       "<Figure size 432x288 with 1 Axes>"
      ]
     },
     "metadata": {
      "needs_background": "light"
     },
     "output_type": "display_data"
    }
   ],
   "source": [
    "titanic['Survived'].plot.density()\n",
    "plt.show()"
   ]
  },
  {
   "cell_type": "markdown",
   "metadata": {},
   "source": [
    "> **🙋‍♂️ Domanda 12**\n",
    ">\n",
    "> La forma della distribuzione è coerete con l'indice di curtosi? Perché?"
   ]
  },
  {
   "cell_type": "markdown",
   "metadata": {},
   "source": [
    "## Esercizi\n",
    "\n",
    "> 🧑‍💻 Esercizio 1\n",
    "> \n",
    "> Considerando il dataset Titanic, si calcolino per ogni variabile la numerosità, la media, la deviazione standard, il minimo, il massimo, il valore mediano, il primo e il terzo quartile. Dopo aver calcolato i valori richiesti individualmente, si utilizzi il metodo `describe` per ottenere tali valori. Qual è la variabile più dispersa?"
   ]
  },
  {
   "cell_type": "markdown",
   "metadata": {},
   "source": [
    "> 🧑‍💻 Esercizio 2\n",
    "> \n",
    "> Considerando il dataset Titanic, per ognuna delle tre classi, si calcolino medie e varianze delle età dei passeggeri. In quale classe le età sono meno disperse? Quale classe contiene i soggetti più giovani? Si completi l'analisi con dei grafici a barre."
   ]
  }
 ],
 "metadata": {
  "anaconda-cloud": {},
  "kernelspec": {
   "display_name": "Python 3",
   "language": "python",
   "name": "python3"
  },
  "language_info": {
   "codemirror_mode": {
    "name": "ipython",
    "version": 3
   },
   "file_extension": ".py",
   "mimetype": "text/x-python",
   "name": "python",
   "nbconvert_exporter": "python",
   "pygments_lexer": "ipython3",
   "version": "3.11.4"
  }
 },
 "nbformat": 4,
 "nbformat_minor": 1
}
