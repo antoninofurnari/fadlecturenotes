{
 "cells": [
  {
   "cell_type": "markdown",
   "metadata": {},
   "source": [
    "# Misure di Tendenza Centrale, Dispersione e Forma\n",
    "\n",
    "La statistica descrittiva si occupa di descrivere, rappresentare e sintetizzare un campione di dati relativo ad una popolazione. Gli strumenti della statistica descrittiva possono essere sia numerici che grafici. I dati analizzati possono essere descritti secondo diversi aspetti. Esistono pertanto diversi \"indicatori\" oggettivi:\n",
    " * **numerosità** del campione;\n",
    " * **indicatori centrali**: media, mediana, moda;\n",
    " * **Indicatori di dispersione**: estremi, range, quantili, percentili, quartili, distanza inter-quartile, varianza;\n",
    "\n",
    "Per esaminare questi strumenti, iniziamo considerando un semplice campione univariato:"
   ]
  },
  {
   "cell_type": "code",
   "execution_count": 3,
   "metadata": {
    "tags": [
     "remove-input"
    ]
   },
   "outputs": [
    {
     "data": {
      "text/plain": [
       "0    3.0\n",
       "1    4.0\n",
       "2    NaN\n",
       "3    4.0\n",
       "4    4.0\n",
       "5    1.0\n",
       "6    2.0\n",
       "7    2.0\n",
       "8    NaN\n",
       "9    4.0\n",
       "dtype: float64"
      ]
     },
     "execution_count": 3,
     "metadata": {},
     "output_type": "execute_result"
    }
   ],
   "source": [
    "import numpy as np\n",
    "import pandas as pd\n",
    "np.random.seed(42)\n",
    "data_array = np.random.randint(0,5,size=10).astype(float)\n",
    "data_array[2] = np.nan\n",
    "data_array[8] = np.nan\n",
    "data = pd.Series(data_array)\n",
    "data"
   ]
  },
  {
   "cell_type": "markdown",
   "metadata": {},
   "source": [
    "Il campione contiene dei valori `NaN`. Si tratta di valori mancanti che per qualche motivo non sono stati rilevati e andranno gestiti opportunamente."
   ]
  },
  {
   "cell_type": "markdown",
   "metadata": {},
   "source": [
    "## Numerosità\n",
    "\n",
    "La numerosità di un campione univariato $\\{x^{(i)}\\}_i^N$ è data dal numero di valori in esso contenuto: $|X|=|\\{x^{(i)}\\}_i^N| = N$. La numerosità di ciascuna colonna può anche essere diversa in quanto possono essistere dei valori mancanti, indicanti in genere con `NA` o `NaN`. Nel nostro caso:"
   ]
  },
  {
   "cell_type": "code",
   "execution_count": 4,
   "metadata": {
    "tags": [
     "remove-input"
    ]
   },
   "outputs": [
    {
     "name": "stdout",
     "output_type": "stream",
     "text": [
      "<class 'pandas.core.series.Series'>\n",
      "RangeIndex: 10 entries, 0 to 9\n",
      "Series name: None\n",
      "Non-Null Count  Dtype  \n",
      "--------------  -----  \n",
      "8 non-null      float64\n",
      "dtypes: float64(1)\n",
      "memory usage: 208.0 bytes\n"
     ]
    }
   ],
   "source": [
    "data.info()"
   ]
  },
  {
   "cell_type": "markdown",
   "metadata": {},
   "source": [
    "## Indicatori Centrali: Media, Mediana e Moda\n",
    "\n",
    "Gli indicatori centrali danno un'idea approssimata dell'ordine di grandezza dei valori del campione. \n",
    "\n",
    "### Media\n",
    "\n",
    "La media di un campione è definita come la somma dei suoi valori diviso la sua numerosità: \n",
    "\n",
    "$$\\overline X = \\frac{1}{N}\\sum_i^N x^{(i)}$$\n",
    "\n",
    "La media del nostro campione sarà:"
   ]
  },
  {
   "cell_type": "code",
   "execution_count": 5,
   "metadata": {
    "tags": [
     "remove-input"
    ]
   },
   "outputs": [
    {
     "data": {
      "text/plain": [
       "3.0"
      ]
     },
     "execution_count": 5,
     "metadata": {},
     "output_type": "execute_result"
    }
   ],
   "source": [
    "data.mean()"
   ]
  },
  {
   "cell_type": "markdown",
   "metadata": {},
   "source": [
    "### Mediana\n",
    "\n",
    "Quando gli elementi di un campione possono essere ordinati (ad esempio se sono valori numerici), la mediana di un campione (o l'elemento mediano) è l'elemento che divide in due parti uguali l'insieme ordinato dei valori del campione.  \n",
    "\n",
    "L'elemento mediano si può ottenere ordinando i valori del campione e procedendo come segue:\n",
    "\n",
    "* Se il numero di elementi è dispari, si prende il centrale. Ad esempio $[1,2,\\mathbf{2},3,5] \\to 2$.\n",
    "* Se il numero di elementi è pari, si prende la media tra i due centrali. Ad esempio $[1,2,\\mathbf{2},\\mathbf{3},3,5] \\to \\frac{2+3}{2} = 2.5$.\n",
    "\n",
    "Nel caso del nostro campione:"
   ]
  },
  {
   "cell_type": "code",
   "execution_count": 6,
   "metadata": {
    "tags": [
     "remove-input"
    ]
   },
   "outputs": [
    {
     "name": "stdout",
     "output_type": "stream",
     "text": [
      "5    1.0\n",
      "6    2.0\n",
      "7    2.0\n",
      "0    3.0\n",
      "1    4.0\n",
      "3    4.0\n",
      "4    4.0\n",
      "9    4.0\n",
      "2    NaN\n",
      "8    NaN\n",
      "dtype: float64\n",
      "Valore mediano: 3.5\n"
     ]
    }
   ],
   "source": [
    "print(data.sort_values())\n",
    "print(\"Valore mediano:\",data.median())"
   ]
  },
  {
   "cell_type": "markdown",
   "metadata": {},
   "source": [
    "### Moda\n",
    "La moda di un campione è l'elemento che si ripete più spesso. Ad esempio, consideriamo il seguente campione:"
   ]
  },
  {
   "cell_type": "code",
   "execution_count": 10,
   "metadata": {
    "tags": [
     "remove-input"
    ]
   },
   "outputs": [
    {
     "data": {
      "text/plain": [
       "0     1\n",
       "1     2\n",
       "2     3\n",
       "3     4\n",
       "4     2\n",
       "5     5\n",
       "6     4\n",
       "7     2\n",
       "8     6\n",
       "9     5\n",
       "10    8\n",
       "11    4\n",
       "12    3\n",
       "13    2\n",
       "14    3\n",
       "dtype: int64"
      ]
     },
     "execution_count": 10,
     "metadata": {},
     "output_type": "execute_result"
    }
   ],
   "source": [
    "data=pd.Series([1,2,3,4,2,5,4,2,6,5,8,4,3,2,3])\n",
    "data"
   ]
  },
  {
   "cell_type": "markdown",
   "metadata": {},
   "source": [
    "Consideriamo dunque le frequenze assolute:"
   ]
  },
  {
   "cell_type": "code",
   "execution_count": 11,
   "metadata": {
    "tags": [
     "remove-input"
    ]
   },
   "outputs": [
    {
     "data": {
      "text/plain": [
       "2    4\n",
       "3    3\n",
       "4    3\n",
       "5    2\n",
       "1    1\n",
       "6    1\n",
       "8    1\n",
       "dtype: int64"
      ]
     },
     "execution_count": 11,
     "metadata": {},
     "output_type": "execute_result"
    }
   ],
   "source": [
    "data.value_counts()"
   ]
  },
  {
   "cell_type": "markdown",
   "metadata": {},
   "source": [
    "La moda sarà pari a $4$."
   ]
  },
  {
   "cell_type": "markdown",
   "metadata": {},
   "source": [
    "## Indicatori di dispersione (1): estremi, range, quartili\n",
    "\n",
    "Gli indici di dispersione hanno il compito di quantificare in quale misura i valori di una distribuzione sono \"dispersi\", ovvero \"lontani tra loro\"."
   ]
  },
  {
   "cell_type": "markdown",
   "metadata": {},
   "source": [
    "### Minimo, Massimo e Range\n",
    "Semplici indici di dispersione sono il minimo ($min \\{x^{(i)}\\}_i^N$), il massimo ($max \\{x^{(i)}\\}_i^N$) e il range ($max \\{x^{(i)}\\}_i^N$ - $min \\{x^{(i)}\\}_i^N$). Tornando al ultimo esempio:"
   ]
  },
  {
   "cell_type": "code",
   "execution_count": 12,
   "metadata": {
    "tags": [
     "remove-input"
    ]
   },
   "outputs": [
    {
     "data": {
      "text/plain": [
       "0     1\n",
       "1     2\n",
       "2     3\n",
       "3     4\n",
       "4     2\n",
       "5     5\n",
       "6     4\n",
       "7     2\n",
       "8     6\n",
       "9     5\n",
       "10    8\n",
       "11    4\n",
       "12    3\n",
       "13    2\n",
       "14    3\n",
       "dtype: int64"
      ]
     },
     "execution_count": 12,
     "metadata": {},
     "output_type": "execute_result"
    }
   ],
   "source": [
    "data"
   ]
  },
  {
   "cell_type": "markdown",
   "metadata": {},
   "source": [
    "Avremo che:"
   ]
  },
  {
   "cell_type": "code",
   "execution_count": 13,
   "metadata": {
    "tags": [
     "remove-input"
    ]
   },
   "outputs": [
    {
     "name": "stdout",
     "output_type": "stream",
     "text": [
      "Minimo: 1\n",
      "Massimo: 8\n",
      "Range: 7\n"
     ]
    }
   ],
   "source": [
    "print(\"Minimo:\", data.min())\n",
    "print(\"Massimo:\", data.max())\n",
    "print(\"Range:\", data.max() - data.min())"
   ]
  },
  {
   "cell_type": "markdown",
   "metadata": {},
   "source": [
    "### Normalizzazioni del Range dei Dati\n",
    "Il range dei dati dipende fortemente dalla natura dei dati e dalla loro unità di misura. Ad esempio, le età si misurano in anni, mentre i pesi in Kg o libbre. Pertanto, esistono delle tecniche di normalizzazione dei dati che permettono di rendere dati basati su unità di misura diverse comparabili tra di loro."
   ]
  },
  {
   "cell_type": "markdown",
   "metadata": {},
   "source": [
    "#### Normalizzazione tra 0 e 1\n",
    "Questa normalizzazione scala i dati in modo che i valori minimo e massimo risultino esattamente pari a $0$ e $1$, usando la seguente formula:\n",
    "\\begin{equation}\n",
    "x_{norm} = (x-x_{min})/(x_{max}-x_{min})\n",
    "\\end{equation}\n",
    "\n",
    "Nel caso del nostro campione, otterremmo:"
   ]
  },
  {
   "cell_type": "code",
   "execution_count": 15,
   "metadata": {
    "tags": [
     "remove-input"
    ]
   },
   "outputs": [
    {
     "data": {
      "text/plain": [
       "0     0.000000\n",
       "1     0.142857\n",
       "2     0.285714\n",
       "3     0.428571\n",
       "4     0.142857\n",
       "5     0.571429\n",
       "6     0.428571\n",
       "7     0.142857\n",
       "8     0.714286\n",
       "9     0.571429\n",
       "10    1.000000\n",
       "11    0.428571\n",
       "12    0.285714\n",
       "13    0.142857\n",
       "14    0.285714\n",
       "dtype: float64"
      ]
     },
     "execution_count": 15,
     "metadata": {},
     "output_type": "execute_result"
    }
   ],
   "source": [
    "data_norm = (data-data.min())/(data.max()-data.min())\n",
    "data_norm"
   ]
  },
  {
   "cell_type": "markdown",
   "metadata": {},
   "source": [
    "#### Normalizzazione tra -1 e 1\n",
    "In questo caso, i dati vengono riscalati in modo che i nuovi minimo e massimo siano $-1$ e $1$, usando la seguente formula:\n",
    "\\begin{equation}\n",
    "x_{norm} = (x_{max}+x_{min}-2\\cdot x)/(x_{max}-x_{min})\n",
    "\\end{equation}\n",
    "\n",
    "Possiamo effettuare questa trasformazione in Pandas come segue:"
   ]
  },
  {
   "cell_type": "code",
   "execution_count": 16,
   "metadata": {
    "tags": [
     "remove-input"
    ]
   },
   "outputs": [
    {
     "data": {
      "text/plain": [
       "0     1.000000\n",
       "1     0.714286\n",
       "2     0.428571\n",
       "3     0.142857\n",
       "4     0.714286\n",
       "5    -0.142857\n",
       "6     0.142857\n",
       "7     0.714286\n",
       "8    -0.428571\n",
       "9    -0.142857\n",
       "10   -1.000000\n",
       "11    0.142857\n",
       "12    0.428571\n",
       "13    0.714286\n",
       "14    0.428571\n",
       "dtype: float64"
      ]
     },
     "execution_count": 16,
     "metadata": {},
     "output_type": "execute_result"
    }
   ],
   "source": [
    "data_norm2 = (data.max()+data.min()-2*data)/(data.max()-data.min())\n",
    "data_norm2"
   ]
  },
  {
   "cell_type": "markdown",
   "metadata": {},
   "source": [
    "### Quantili, Percentili e Quartili\n",
    "\n",
    "Quantili, percentili e quartili generalizzano il concetto di mediana. \n",
    "\n",
    "#### Quantili\n",
    "Un quantile di ordine $\\alpha$ è un valore $q_\\alpha$ che divide un campione in due parti di dimensioni proprozionali a $\\alpha$ e $1-\\alpha$. Valori più piccoli o uguali a $q_\\alpha$ appartengono alla prima parte della suddivisione, mentre valori maggiori a $q_\\alpha$ appartengono alla seconda parte. \n",
    "\n",
    "Ad esempio, dato il campione già ordinato `[1,2,3,3,4,5,6,6,7,8,8,9]`, un quantile $q_{0.25}$ dividerà il campione in due parti di dimensione proporzionale a $0.25$ e $1-0.25=0.75$. In questo caso $q_{0.25}=3$ e le due parti saranno `[1,2,3,3]` e `[4,5,6,6,7,8,8,9]`.\n",
    "\n",
    "Anche in questo caso, come nel caso della mediana, si effettuano medie di valori adiacenti ove opportuno.\n",
    "\n",
    "I quantili vanno interpretati così:\n",
    "\n",
    "> Se un quantile di ordine $\\alpha$ è pari al numero $x$, allora vuole dire che $\\alpha \\times n$ elementi hanno un valore inferiore o uguale a $x$, dove $n$ è il numero di elementi nel campione.\n",
    "\n",
    "Va notato che:\n",
    "* Il minimo è un quantile di ordine 0;\n",
    "* Il massimo è un quantile di ordine 1;\n",
    "* La mediana è un quantile di ordine 0.5.\n",
    "\n",
    "Vediamo alcuni esempi sul nostro piccolo campione:"
   ]
  },
  {
   "cell_type": "code",
   "execution_count": 24,
   "metadata": {
    "tags": [
     "remove-input"
    ]
   },
   "outputs": [
    {
     "name": "stdout",
     "output_type": "stream",
     "text": [
      "Quantile di ordine 0 (minimo): 1.0\n",
      "Quantile di ordine 0.5 (mediana): 3.0\n",
      "Quantile di ordine 1 (massimo): 8.0\n",
      "Quantile di ordine 0.15: 2.0\n"
     ]
    }
   ],
   "source": [
    "print(\"Quantile di ordine 0 (minimo):\", data.quantile(0))\n",
    "print(\"Quantile di ordine 0.5 (mediana):\", data.quantile(0.5))\n",
    "print(\"Quantile di ordine 1 (massimo):\", data.quantile(1))\n",
    "print(\"Quantile di ordine 0.15:\", data.quantile(0.15))"
   ]
  },
  {
   "cell_type": "markdown",
   "metadata": {},
   "source": [
    "Dai dati sopra deduciamo che:\n",
    "* Il $50\\%$ dei valori sono inferiori o uguali a 3;\n",
    "* Il $15\\%$ dei valori sono minori o ugualei a 2."
   ]
  },
  {
   "cell_type": "markdown",
   "metadata": {},
   "source": [
    "#### Percentili\n",
    "I percentili sono semplicemente quantili espressi in precentuale. Un quantile di ordine $0.25$ è un percentile di ordine $25\\%$."
   ]
  },
  {
   "cell_type": "markdown",
   "metadata": {},
   "source": [
    "#### Quartili\n",
    "\n",
    "I quartili sono degli specifici quantili che suddividono il campione in quattro parti. In particolare:\n",
    "\n",
    "* Il quartile di ordine 0 è un quantile di ordine 0;\n",
    "* Il quartile di ordine 1 è un quantile di ordine $1/4=0.25$;\n",
    "* Il quartile di ordine 2 è un quantile di ordine $2/4=0.5$;\n",
    "* Il quartile di ordine 3 è un quantile di ordine $3/4=0.75$;\n",
    "* Il quartile di ordine 4 è un qauntile di ordine $4/4=1$.\n",
    "\n",
    "Vediamo qualche esempio sul nostro piccolo campione:"
   ]
  },
  {
   "cell_type": "code",
   "execution_count": 25,
   "metadata": {
    "tags": [
     "remove-input"
    ]
   },
   "outputs": [
    {
     "name": "stdout",
     "output_type": "stream",
     "text": [
      "Quartile di ordine 0 (minimo): 1.0\n",
      "Quartile di ordine 1: 2.0\n",
      "Quartile di ordine 2 (mediana): 3.0\n",
      "Quartile di ordine 3: 4.5\n",
      "Quartile di ordine 4 (massimo): 8.0\n"
     ]
    }
   ],
   "source": [
    "print(\"Quartile di ordine 0 (minimo):\", data.quantile(0/4))\n",
    "print(\"Quartile di ordine 1:\", data.quantile(1/4))\n",
    "print(\"Quartile di ordine 2 (mediana):\", data.quantile(2/4))\n",
    "print(\"Quartile di ordine 3:\", data.quantile(3/4))\n",
    "print(\"Quartile di ordine 4 (massimo):\", data.quantile(4/4))"
   ]
  },
  {
   "cell_type": "markdown",
   "metadata": {},
   "source": [
    "## Boxplot\n",
    "\n",
    "I boxplot costituiscono un metodo di visualizzazione compatto per rappresentare alcune caratteristiche descrittive dei dati sotto analisi. In particolare, dato un campione, un boxplot riesce a rappresentarne efficacemente le seguenti quantità:\n",
    " * Valore mediano;\n",
    " * Primo e terzo quartile;\n",
    " * Minimo e massimo (a seconda della \"versione\" del boxplot, come discusso di seguito).\n",
    "\n",
    "Per illustrare l'utilità dei boxplot, considereremo il dataset di pesi e altezze visto in precedenza:"
   ]
  },
  {
   "cell_type": "code",
   "execution_count": 26,
   "metadata": {
    "tags": [
     "remove-input"
    ]
   },
   "outputs": [
    {
     "data": {
      "text/html": [
       "<div>\n",
       "<style scoped>\n",
       "    .dataframe tbody tr th:only-of-type {\n",
       "        vertical-align: middle;\n",
       "    }\n",
       "\n",
       "    .dataframe tbody tr th {\n",
       "        vertical-align: top;\n",
       "    }\n",
       "\n",
       "    .dataframe thead th {\n",
       "        text-align: right;\n",
       "    }\n",
       "</style>\n",
       "<table border=\"1\" class=\"dataframe\">\n",
       "  <thead>\n",
       "    <tr style=\"text-align: right;\">\n",
       "      <th></th>\n",
       "      <th>sex</th>\n",
       "      <th>height</th>\n",
       "      <th>weight</th>\n",
       "    </tr>\n",
       "  </thead>\n",
       "  <tbody>\n",
       "    <tr>\n",
       "      <th>0</th>\n",
       "      <td>M</td>\n",
       "      <td>74</td>\n",
       "      <td>53.484771</td>\n",
       "    </tr>\n",
       "    <tr>\n",
       "      <th>1</th>\n",
       "      <td>M</td>\n",
       "      <td>70</td>\n",
       "      <td>38.056472</td>\n",
       "    </tr>\n",
       "    <tr>\n",
       "      <th>2</th>\n",
       "      <td>F</td>\n",
       "      <td>61</td>\n",
       "      <td>34.970812</td>\n",
       "    </tr>\n",
       "    <tr>\n",
       "      <th>3</th>\n",
       "      <td>M</td>\n",
       "      <td>68</td>\n",
       "      <td>35.999365</td>\n",
       "    </tr>\n",
       "    <tr>\n",
       "      <th>4</th>\n",
       "      <td>F</td>\n",
       "      <td>66</td>\n",
       "      <td>34.559390</td>\n",
       "    </tr>\n",
       "    <tr>\n",
       "      <th>...</th>\n",
       "      <td>...</td>\n",
       "      <td>...</td>\n",
       "      <td>...</td>\n",
       "    </tr>\n",
       "    <tr>\n",
       "      <th>4226</th>\n",
       "      <td>F</td>\n",
       "      <td>69</td>\n",
       "      <td>23.862436</td>\n",
       "    </tr>\n",
       "    <tr>\n",
       "      <th>4227</th>\n",
       "      <td>M</td>\n",
       "      <td>69</td>\n",
       "      <td>38.262182</td>\n",
       "    </tr>\n",
       "    <tr>\n",
       "      <th>4228</th>\n",
       "      <td>F</td>\n",
       "      <td>64</td>\n",
       "      <td>34.970812</td>\n",
       "    </tr>\n",
       "    <tr>\n",
       "      <th>4229</th>\n",
       "      <td>F</td>\n",
       "      <td>64</td>\n",
       "      <td>28.388071</td>\n",
       "    </tr>\n",
       "    <tr>\n",
       "      <th>4230</th>\n",
       "      <td>F</td>\n",
       "      <td>61</td>\n",
       "      <td>22.628172</td>\n",
       "    </tr>\n",
       "  </tbody>\n",
       "</table>\n",
       "<p>4231 rows × 3 columns</p>\n",
       "</div>"
      ],
      "text/plain": [
       "     sex  height     weight\n",
       "0      M      74  53.484771\n",
       "1      M      70  38.056472\n",
       "2      F      61  34.970812\n",
       "3      M      68  35.999365\n",
       "4      F      66  34.559390\n",
       "...   ..     ...        ...\n",
       "4226   F      69  23.862436\n",
       "4227   M      69  38.262182\n",
       "4228   F      64  34.970812\n",
       "4229   F      64  28.388071\n",
       "4230   F      61  22.628172\n",
       "\n",
       "[4231 rows x 3 columns]"
      ]
     },
     "execution_count": 26,
     "metadata": {},
     "output_type": "execute_result"
    }
   ],
   "source": [
    "hw=pd.read_csv('http://antoninofurnari.it/downloads/height_weight.csv')\n",
    "hw['height'] = (hw['height']/2.54).astype(int)\n",
    "hw['weight'] = hw['weight']/2.205\n",
    "del hw['BMI']\n",
    "hw"
   ]
  },
  {
   "cell_type": "markdown",
   "metadata": {},
   "source": [
    "I quartili sul campione dei pesi saranno i seguenti:"
   ]
  },
  {
   "cell_type": "code",
   "execution_count": 41,
   "metadata": {
    "tags": [
     "remove-input"
    ]
   },
   "outputs": [
    {
     "data": {
      "text/plain": [
       "min    20.571066\n",
       "25%    29.828045\n",
       "50%    34.970812\n",
       "75%    41.142132\n",
       "max    61.301776\n",
       "Name: weight, dtype: float64"
      ]
     },
     "execution_count": 41,
     "metadata": {},
     "output_type": "execute_result"
    }
   ],
   "source": [
    "desc = hw['weight'].describe()\n",
    "desc.iloc[[3,4,5,6,7]]"
   ]
  },
  {
   "cell_type": "markdown",
   "metadata": {},
   "source": [
    "Il boxplot delle altezze si presenta come segue:"
   ]
  },
  {
   "cell_type": "code",
   "execution_count": 42,
   "metadata": {
    "tags": [
     "remove-input"
    ]
   },
   "outputs": [
    {
     "data": {
      "image/png": "[encoded data removed]",
      "text/plain": [
       "<Figure size 144x432 with 1 Axes>"
      ]
     },
     "metadata": {
      "needs_background": "light"
     },
     "output_type": "display_data"
    }
   ],
   "source": [
    "from matplotlib import pyplot as plt\n",
    "hw['weight'].plot.box(figsize=(2,6))\n",
    "plt.grid()\n",
    "plt.show()"
   ]
  },
  {
   "cell_type": "markdown",
   "metadata": {},
   "source": [
    "Il boxplot si mostra come una \"scatola\" con dei \"baffi\" in cui:\n",
    " * l'estremo inferiore della scatola indica il primo quartile;\n",
    " * l'estremo superiore della scatola indica il terzo quartile;\n",
    " * la linea orizzontale in mezzo alla scatola rappresenta il valore mediano del campione;\n",
    " * il baffo inferiore rappresenta il primo valore nel campione che risulta essere maggiore o uguale al primo quartile meno una volta e mezza la distanza tra i il terzo e il primo quartile;\n",
    " * il baffo superiore rappresenta il primo valore nel campione che risulta essere minore o uguale al terzo quartile più una volta e mezza la distanza tra i il terzo e il primo quartile;\n",
    " * i tondini rappresentano i valori \"fuori limite\" che ricadono fuori dall'intervallo contrassegnato dai baffi. Vengono in genere considerati come \"outliers\"."
   ]
  },
  {
   "cell_type": "markdown",
   "metadata": {},
   "source": [
    "I boxplot possono essere utili a comparare campioni. Ad esempio, i seguenti boxplot comparano le distribuzioni di pesi e altezze:"
   ]
  },
  {
   "cell_type": "code",
   "execution_count": 44,
   "metadata": {
    "tags": [
     "remove-input"
    ]
   },
   "outputs": [
    {
     "data": {
      "image/png": "[encoded data removed]",
      "text/plain": [
       "<Figure size 432x288 with 1 Axes>"
      ]
     },
     "metadata": {
      "needs_background": "light"
     },
     "output_type": "display_data"
    }
   ],
   "source": [
    "hw.plot.box()\n",
    "plt.grid()\n",
    "plt.show()"
   ]
  },
  {
   "cell_type": "markdown",
   "metadata": {},
   "source": [
    "Dal grafico sopra possiamo notare che, mentre weight contiene degli outliers nella parte alta, height non li contiene. Questo non è particolarmente sorprendente, perché è più facile trovare un certo numero di persone sovrappeso che persone molto più alte della norma."
   ]
  },
  {
   "cell_type": "markdown",
   "metadata": {},
   "source": [
    "## Indicatori di dispersione (2), distanza inter-quartile e varianza"
   ]
  },
  {
   "cell_type": "markdown",
   "metadata": {},
   "source": [
    "### Distanza interquartile\n",
    "\n",
    "Il range non è un indice di dispersione molto robusto, in quanto non tiene conto della presenza di evenutali outliers. Si considerino ad esempio i seguenti campioni \"artificiali\":"
   ]
  },
  {
   "cell_type": "code",
   "execution_count": 46,
   "metadata": {
    "tags": [
     "remove-input"
    ]
   },
   "outputs": [
    {
     "data": {
      "image/png": "[encoded data removed]",
      "text/plain": [
       "<Figure size 432x288 with 1 Axes>"
      ]
     },
     "metadata": {
      "needs_background": "light"
     },
     "output_type": "display_data"
    },
    {
     "name": "stdout",
     "output_type": "stream",
     "text": [
      "Range sample 1: 4.0\n",
      "Range sample 2: 20.0\n"
     ]
    }
   ],
   "source": [
    "sample1 = np.linspace(3,7,100)\n",
    "sample2 = sample1.copy()\n",
    "sample2[0]=-5 #sostituiamo due valori con gli outliers -5\n",
    "sample2[-1]=15 # e 15\n",
    "\n",
    "df = pd.DataFrame({'s1':sample1,'s2':sample2})\n",
    "\n",
    "df.plot.box()\n",
    "plt.grid()\n",
    "plt.show()\n",
    "\n",
    "print(\"Range sample 1:\",df['s1'].max()-df['s1'].min())\n",
    "print(\"Range sample 2:\",df['s2'].max()-df['s2'].min())"
   ]
  },
  {
   "cell_type": "markdown",
   "metadata": {},
   "source": [
    "I campioni sono simili, ma la presenza di due outliers (-5 e 15) nel secondo campione rende i range molto diversi (4 e 20).\n",
    "\n",
    "Confrontando i due boxplot mostrati sopra, notiamo che le posizioni del terzo e del primo quartile sono più \"robuste\" agli outliers. Una misura di dispersione un po' più espressiva è dunque lo **scarto interquartile** (o **distanza interquartile**), che si misura come la differenza tra il terzo e il primo quartile:"
   ]
  },
  {
   "cell_type": "code",
   "execution_count": 47,
   "metadata": {
    "tags": [
     "remove-input"
    ]
   },
   "outputs": [
    {
     "name": "stdout",
     "output_type": "stream",
     "text": [
      "Lo scarto interquartile di sample 1 è: 2.0\n",
      "Lo scarto interquartile di sample 2 è: 2.0\n"
     ]
    }
   ],
   "source": [
    "q11,q13 = df['s1'].quantile([1/4,3/4])\n",
    "q21,q23 = df['s2'].quantile([1/4,3/4])\n",
    "print(\"Lo scarto interquartile di sample 1 è:\",q13-q11)\n",
    "print(\"Lo scarto interquartile di sample 2 è:\",q23-q21)"
   ]
  },
  {
   "cell_type": "markdown",
   "metadata": {},
   "source": [
    "### Varianza e Deviazione Standard\n",
    "\n",
    "La varianza (detto anche scarto quadratico medio) fornisce una stima di quanto i dati osservati si allontanano dalla media. La varianza calcola la media dei quadrati degli scarti dei valori rispetto alla media, penalizzando i grandi scostamenti dal valore medio (dovuti agli outliers) maggiormente più dei piccoli scostamenti:\n",
    "\n",
    "$$s^2 = \\frac{\\sum_{i=1}^n(x_i-\\overline x)^2}{n}$$\n",
    "\n",
    "La varianza dei pesi nel nostro dataset di pesi-altezze è:"
   ]
  },
  {
   "cell_type": "code",
   "execution_count": 54,
   "metadata": {
    "tags": [
     "remove-input"
    ]
   },
   "outputs": [
    {
     "data": {
      "text/plain": [
       "63.806668494405045"
      ]
     },
     "execution_count": 54,
     "metadata": {},
     "output_type": "execute_result"
    }
   ],
   "source": [
    "hw['weight'].var()"
   ]
  },
  {
   "cell_type": "markdown",
   "metadata": {},
   "source": [
    "Gli indici di dispersione visti fino ad ora (esclusa la varianza) hanno come unità di misura la stessa dei dati di input. Nel caso dei pesi, i dati vengono misurati in libbre. E' pertanto corretto dire che **minimo**, **massimo**, **range**, **scarto interquartile** e **scarto medio assoluto** calcolati sui pesi si misurano in libbre."
   ]
  },
  {
   "cell_type": "markdown",
   "metadata": {},
   "source": [
    "Lo stesso discorso non vale per la varianza, che si misurera in **libbre al quadrato**. Se vogliamo ottenere una misura di dispersione **commensurabile**, possiamo calcolare la radice quadrata della varianza, ottenendo così la **deviazione standard** (o **scarto quadratico medio**), che si definisce come segue:\n",
    "\n",
    "$$s = \\sqrt{s^2}=\\sqrt{\\frac{\\sum_{i=1}{n}(x_i-x^2)}{n}}$$\n",
    "\n",
    "Le medie e deviazioni standard delle due variabili pesi e altezze sono:"
   ]
  },
  {
   "cell_type": "code",
   "execution_count": 55,
   "metadata": {
    "tags": [
     "remove-input"
    ]
   },
   "outputs": [
    {
     "data": {
      "text/html": [
       "<div>\n",
       "<style scoped>\n",
       "    .dataframe tbody tr th:only-of-type {\n",
       "        vertical-align: middle;\n",
       "    }\n",
       "\n",
       "    .dataframe tbody tr th {\n",
       "        vertical-align: top;\n",
       "    }\n",
       "\n",
       "    .dataframe thead th {\n",
       "        text-align: right;\n",
       "    }\n",
       "</style>\n",
       "<table border=\"1\" class=\"dataframe\">\n",
       "  <thead>\n",
       "    <tr style=\"text-align: right;\">\n",
       "      <th></th>\n",
       "      <th>height</th>\n",
       "      <th>weight</th>\n",
       "    </tr>\n",
       "  </thead>\n",
       "  <tbody>\n",
       "    <tr>\n",
       "      <th>mean</th>\n",
       "      <td>66.826046</td>\n",
       "      <td>35.818062</td>\n",
       "    </tr>\n",
       "    <tr>\n",
       "      <th>std</th>\n",
       "      <td>4.002658</td>\n",
       "      <td>7.987908</td>\n",
       "    </tr>\n",
       "  </tbody>\n",
       "</table>\n",
       "</div>"
      ],
      "text/plain": [
       "         height     weight\n",
       "mean  66.826046  35.818062\n",
       "std    4.002658   7.987908"
      ]
     },
     "execution_count": 55,
     "metadata": {},
     "output_type": "execute_result"
    }
   ],
   "source": [
    "desc=hw[['height','weight']].describe()\n",
    "desc.iloc[[1,2]]"
   ]
  },
  {
   "cell_type": "markdown",
   "metadata": {},
   "source": [
    "La deviazione standard ci dice qualcosa anche sulla \"forma\" della distribuzione. Confrontiamo ad esempio le deviazioni standard delle altezze di uomini e donne:"
   ]
  },
  {
   "cell_type": "code",
   "execution_count": 59,
   "metadata": {
    "tags": [
     "remove-input"
    ]
   },
   "outputs": [
    {
     "data": {
      "text/plain": [
       "sex\n",
       "F    2.686187\n",
       "M    2.911766\n",
       "Name: height, dtype: float64"
      ]
     },
     "execution_count": 59,
     "metadata": {},
     "output_type": "execute_result"
    }
   ],
   "source": [
    "hw.groupby('sex')['height'].std()"
   ]
  },
  {
   "cell_type": "markdown",
   "metadata": {},
   "source": [
    "Dal confronto notiamo che le altezze degli uomini sono \"più disperse\" (hanno cioè una deviazione standard più alta). Confrontiamo le stime di densità dei due campioni:"
   ]
  },
  {
   "cell_type": "code",
   "execution_count": 60,
   "metadata": {
    "tags": [
     "remove-input"
    ]
   },
   "outputs": [
    {
     "data": {
      "image/png": "[encoded data removed]",
      "text/plain": [
       "<Figure size 576x288 with 1 Axes>"
      ]
     },
     "metadata": {
      "needs_background": "light"
     },
     "output_type": "display_data"
    }
   ],
   "source": [
    "hw.groupby('sex')['height'].plot.density(figsize=(8,4))\n",
    "plt.grid()\n",
    "plt.legend()\n",
    "plt.show()"
   ]
  },
  {
   "cell_type": "markdown",
   "metadata": {},
   "source": [
    "Notiamo che in effetti la stima di densità per gli uomini ha individuato una curva più \"spanciata\", che si correla bene con la più alta devizione standard."
   ]
  },
  {
   "cell_type": "markdown",
   "metadata": {},
   "source": [
    "### Standardizzazione (z-scoring)\n",
    "\n",
    "In molti casi è utile normalizzare i dati in modo che essi presentino media nulla e deviazione standard unitaria. Questo tipo di normalizzazione viene detta \"z-scoring\" e viene effettuata sottraendo ai dati la media e dividendo per la deviazione standard. \n",
    "\n",
    "$$\n",
    "z_i = \\frac{x_i-\\mu_X}{\\sigma_X}\n",
    "$$\n",
    "\n",
    "dove $\\sigma_X$ è la deviazione standard della popolazione alla quale appartiene $X$. Si noti che gli zeta scores sono **adimensionali** (ovvero, non hanno unità di misura).\n",
    "\n",
    "Per capire qual è l'effetto di questa normalizzazione, osserviamo i boxplot di pesi e altezze prima e dopo la normalizzazione:"
   ]
  },
  {
   "cell_type": "code",
   "execution_count": 82,
   "metadata": {
    "tags": [
     "remove-input"
    ]
   },
   "outputs": [
    {
     "data": {
      "image/png": "[encoded data removed]",
      "text/plain": [
       "<Figure size 432x288 with 1 Axes>"
      ]
     },
     "metadata": {
      "needs_background": "light"
     },
     "output_type": "display_data"
    },
    {
     "data": {
      "image/png": "[encoded data removed]",
      "text/plain": [
       "<Figure size 432x288 with 1 Axes>"
      ]
     },
     "metadata": {
      "needs_background": "light"
     },
     "output_type": "display_data"
    }
   ],
   "source": [
    "from scipy.stats import zscore\n",
    "\n",
    "hw.plot.box()\n",
    "plt.grid()\n",
    "plt.title('No z-scoring')\n",
    "plt.show()\n",
    "\n",
    "hwz = hw.copy()\n",
    "hwz['height'] = zscore(hwz['height'])\n",
    "hwz['weight'] = zscore(hwz['weight'])\n",
    "hwz.plot.box()\n",
    "plt.grid()\n",
    "plt.title('z-scoring')\n",
    "plt.show()\n",
    "\n"
   ]
  },
  {
   "cell_type": "markdown",
   "metadata": {},
   "source": [
    "Notiamo che l'asse delle y ha cambiato scala e che adesso i boxplot sono centrati intorno all'origine e hanno dimensioni comparabili. Confrontiamo anche le stime di densità:"
   ]
  },
  {
   "cell_type": "code",
   "execution_count": 89,
   "metadata": {
    "tags": [
     "remove-input"
    ]
   },
   "outputs": [
    {
     "data": {
      "image/png": "[encoded data removed]",
      "text/plain": [
       "<Figure size 432x288 with 1 Axes>"
      ]
     },
     "metadata": {
      "needs_background": "light"
     },
     "output_type": "display_data"
    },
    {
     "data": {
      "image/png": "[encoded data removed]",
      "text/plain": [
       "<Figure size 432x288 with 1 Axes>"
      ]
     },
     "metadata": {
      "needs_background": "light"
     },
     "output_type": "display_data"
    }
   ],
   "source": [
    "hw.plot.kde()\n",
    "plt.title('No z-scoring')\n",
    "plt.show()\n",
    "\n",
    "hwz.plot.kde()\n",
    "plt.title('z-scoring')\n",
    "plt.show()"
   ]
  },
  {
   "cell_type": "markdown",
   "metadata": {},
   "source": [
    "Una interpretazione comune degli z-scores è che essi misurano la deviazione dalla media in termini di deviazione standard della popolazione rispondendo alla domande \"quante $\\sigma$ ci sono tra il campione e la media\"? "
   ]
  }
 ],
 "metadata": {
  "anaconda-cloud": {},
  "kernelspec": {
   "display_name": "Python 3",
   "language": "python",
   "name": "python3"
  },
  "language_info": {
   "codemirror_mode": {
    "name": "ipython",
    "version": 3
   },
   "file_extension": ".py",
   "mimetype": "text/x-python",
   "name": "python",
   "nbconvert_exporter": "python",
   "pygments_lexer": "ipython3",
   "version": "3.9.12"
  }
 },
 "nbformat": 4,
 "nbformat_minor": 1
}
